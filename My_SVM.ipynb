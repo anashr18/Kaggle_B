{
  "nbformat": 4,
  "nbformat_minor": 0,
  "metadata": {
    "colab": {
      "name": "My SVM.ipynb",
      "provenance": [],
      "collapsed_sections": [],
      "authorship_tag": "ABX9TyPfNftjNUeFQUEJk5WqsZcB",
      "include_colab_link": true
    },
    "kernelspec": {
      "name": "python3",
      "display_name": "Python 3"
    }
  },
  "cells": [
    {
      "cell_type": "markdown",
      "metadata": {
        "id": "view-in-github",
        "colab_type": "text"
      },
      "source": [
        "<a href=\"https://colab.research.google.com/github/anashr18/Kaggle_B/blob/main/My_SVM.ipynb\" target=\"_parent\"><img src=\"https://colab.research.google.com/assets/colab-badge.svg\" alt=\"Open In Colab\"/></a>"
      ]
    },
    {
      "cell_type": "code",
      "metadata": {
        "id": "9bUTLe0kSGRn"
      },
      "source": [
        "# libraries\n",
        "import pandas as pd\n",
        "import numpy as np\n",
        "from sklearn.svm import SVC\n",
        "from sklearn.model_selection import train_test_split\n",
        "from sklearn import metrics\n",
        "from sklearn.metrics import confusion_matrix\n",
        "from sklearn.model_selection import KFold\n",
        "from sklearn.model_selection import cross_val_score\n",
        "from sklearn.model_selection import GridSearchCV\n",
        "import matplotlib.pyplot as plt\n",
        "import seaborn as sns\n",
        "from sklearn.preprocessing import scale\n",
        "\n"
      ],
      "execution_count": null,
      "outputs": []
    },
    {
      "cell_type": "code",
      "metadata": {
        "colab": {
          "base_uri": "https://localhost:8080/"
        },
        "id": "G-0dDVqIhJw8",
        "outputId": "9cbef08c-7aed-4be6-ed16-33f9701c57c5"
      },
      "source": [
        "from google.colab import drive\n",
        "drive.mount('/content/drive')"
      ],
      "execution_count": null,
      "outputs": [
        {
          "output_type": "stream",
          "text": [
            "Drive already mounted at /content/drive; to attempt to forcibly remount, call drive.mount(\"/content/drive\", force_remount=True).\n"
          ],
          "name": "stdout"
        }
      ]
    },
    {
      "cell_type": "code",
      "metadata": {
        "colab": {
          "base_uri": "https://localhost:8080/"
        },
        "id": "WB1sd4hshlKD",
        "outputId": "88a594a7-2f10-4f64-ecda-005ad2832fb4"
      },
      "source": [
        "!ls /content/drive/My\\ Drive/RealLifeMLPackt/DATA/"
      ],
      "execution_count": null,
      "outputs": [
        {
          "output_type": "stream",
          "text": [
            "letter-recognition.csv\tSpam.csv  Spam.txt  test.csv  train.csv\n"
          ],
          "name": "stdout"
        }
      ]
    },
    {
      "cell_type": "code",
      "metadata": {
        "id": "50aSAKC8hQ88"
      },
      "source": [
        "# dataset\n",
        "letters = pd.read_csv(\"/content/drive/My Drive/RealLifeMLPackt/DATA/SVM/letter-recognition.csv\")"
      ],
      "execution_count": null,
      "outputs": []
    },
    {
      "cell_type": "code",
      "metadata": {
        "colab": {
          "base_uri": "https://localhost:8080/"
        },
        "id": "vhvdqMcKsTfl",
        "outputId": "10b9265a-e44e-40ad-ca22-eb334b37f679"
      },
      "source": [
        "letters.shape"
      ],
      "execution_count": null,
      "outputs": [
        {
          "output_type": "execute_result",
          "data": {
            "text/plain": [
              "(20000, 17)"
            ]
          },
          "metadata": {
            "tags": []
          },
          "execution_count": 76
        }
      ]
    },
    {
      "cell_type": "code",
      "metadata": {
        "colab": {
          "base_uri": "https://localhost:8080/"
        },
        "id": "MABuVg1mih5M",
        "outputId": "6dde9f3b-225b-4c40-d9fc-b909b266a7ec"
      },
      "source": [
        "letters.iloc[0:20,0]"
      ],
      "execution_count": null,
      "outputs": [
        {
          "output_type": "execute_result",
          "data": {
            "text/plain": [
              "0     T\n",
              "1     I\n",
              "2     D\n",
              "3     N\n",
              "4     G\n",
              "5     S\n",
              "6     B\n",
              "7     A\n",
              "8     J\n",
              "9     M\n",
              "10    X\n",
              "11    O\n",
              "12    G\n",
              "13    M\n",
              "14    R\n",
              "15    F\n",
              "16    O\n",
              "17    C\n",
              "18    T\n",
              "19    J\n",
              "Name: letter, dtype: object"
            ]
          },
          "metadata": {
            "tags": []
          },
          "execution_count": 21
        }
      ]
    },
    {
      "cell_type": "code",
      "metadata": {
        "colab": {
          "base_uri": "https://localhost:8080/"
        },
        "id": "OcrAganXuigu",
        "outputId": "e000c97b-5b29-442f-c5bb-f3abd5d03c37"
      },
      "source": [
        "print(letters.columns)"
      ],
      "execution_count": null,
      "outputs": [
        {
          "output_type": "stream",
          "text": [
            "Index(['letter', 'xbox ', 'ybox ', 'width ', 'height', 'onpix ', 'xbar ',\n",
            "       'ybar ', 'x2bar', 'y2bar ', 'xybar ', 'x2ybar', 'xy2bar', 'xedge ',\n",
            "       'xedgey', 'yedge ', 'yedgex'],\n",
            "      dtype='object')\n"
          ],
          "name": "stdout"
        }
      ]
    },
    {
      "cell_type": "code",
      "metadata": {
        "colab": {
          "base_uri": "https://localhost:8080/"
        },
        "id": "76r5jc6t693K",
        "outputId": "4df2cd1b-ab63-49af-f34b-82f8491705e5"
      },
      "source": [
        "print(np.sort(letters['letter'].unique()))"
      ],
      "execution_count": null,
      "outputs": [
        {
          "output_type": "stream",
          "text": [
            "['A' 'B' 'C' 'D' 'E' 'F' 'G' 'H' 'I' 'J' 'K' 'L' 'M' 'N' 'O' 'P' 'Q' 'R'\n",
            " 'S' 'T' 'U' 'V' 'W' 'X' 'Y' 'Z']\n"
          ],
          "name": "stdout"
        }
      ]
    },
    {
      "cell_type": "code",
      "metadata": {
        "colab": {
          "base_uri": "https://localhost:8080/"
        },
        "id": "-Z_JfhaB8Dsk",
        "outputId": "7f485c2f-b110-4536-f77d-e944db847619"
      },
      "source": [
        "=(letters.groupby('letter'))"
      ],
      "execution_count": null,
      "outputs": [
        {
          "output_type": "execute_result",
          "data": {
            "text/plain": [
              "<pandas.core.groupby.generic.DataFrameGroupBy object at 0x7f3356cbd350>"
            ]
          },
          "metadata": {
            "tags": []
          },
          "execution_count": 28
        }
      ]
    },
    {
      "cell_type": "code",
      "metadata": {
        "id": "r4Zza2JW8vn5"
      },
      "source": [
        "X = letters.drop(\"letter\",axis = 1)\n",
        "Y = letters[\"letter\"]"
      ],
      "execution_count": null,
      "outputs": []
    },
    {
      "cell_type": "code",
      "metadata": {
        "colab": {
          "base_uri": "https://localhost:8080/"
        },
        "id": "4C2zTqvl9ZoL",
        "outputId": "bcdad31c-2bc6-4457-a508-bb056db45876"
      },
      "source": [
        "X_scaled = scale(X)\n",
        "X_scaled"
      ],
      "execution_count": null,
      "outputs": [
        {
          "output_type": "execute_result",
          "data": {
            "text/plain": [
              "array([[-1.0576983 ,  0.29187713, -1.05327668, ..., -0.21908163,\n",
              "        -1.4381527 ,  0.12291107],\n",
              "       [ 0.51038497,  1.5023577 , -1.05327668, ..., -0.21908163,\n",
              "         0.12008142,  1.35944092],\n",
              "       [-0.01230945,  1.19973756,  0.43590966, ..., -0.8656262 ,\n",
              "        -0.26947711,  0.74117599],\n",
              "       ...,\n",
              "       [ 1.03307939,  0.59449727,  0.43590966, ...,  2.36709667,\n",
              "        -0.65903564, -2.35014863],\n",
              "       [-1.0576983 , -1.22122359, -0.55688123, ...,  0.42746295,\n",
              "         0.50963994,  0.12291107],\n",
              "       [-0.01230945,  0.59449727,  0.43590966, ..., -0.8656262 ,\n",
              "        -0.65903564,  0.12291107]])"
            ]
          },
          "metadata": {
            "tags": []
          },
          "execution_count": 34
        }
      ]
    },
    {
      "cell_type": "code",
      "metadata": {
        "id": "tDKYnyN_97E1"
      },
      "source": [
        "X_train, X_test, Y_train, Y_test = train_test_split(X_scaled, Y, test_size = 0.3, random_state = 101 )"
      ],
      "execution_count": null,
      "outputs": []
    },
    {
      "cell_type": "code",
      "metadata": {
        "colab": {
          "base_uri": "https://localhost:8080/"
        },
        "id": "hLZhUqX8ArQ0",
        "outputId": "608e7cb8-4963-4dff-a84e-c0cd05d6cf58"
      },
      "source": [
        "model_linear = SVC(kernel=\"rbf\")\n",
        "model_linear.fit(X_train,Y_train)"
      ],
      "execution_count": null,
      "outputs": [
        {
          "output_type": "execute_result",
          "data": {
            "text/plain": [
              "SVC(C=1.0, break_ties=False, cache_size=200, class_weight=None, coef0=0.0,\n",
              "    decision_function_shape='ovr', degree=3, gamma='scale', kernel='rbf',\n",
              "    max_iter=-1, probability=False, random_state=None, shrinking=True,\n",
              "    tol=0.001, verbose=False)"
            ]
          },
          "metadata": {
            "tags": []
          },
          "execution_count": 79
        }
      ]
    },
    {
      "cell_type": "code",
      "metadata": {
        "id": "e_g39wE9FXh9"
      },
      "source": [
        "Y_pred = model_linear.predict(X_test)"
      ],
      "execution_count": null,
      "outputs": []
    },
    {
      "cell_type": "code",
      "metadata": {
        "colab": {
          "base_uri": "https://localhost:8080/"
        },
        "id": "r6_kv09xEIqe",
        "outputId": "4bbc8129-a104-4075-eebd-89f6b092a12f"
      },
      "source": [
        "metrics.accuracy_score(y_true = Y_test, y_pred = Y_pred)"
      ],
      "execution_count": null,
      "outputs": [
        {
          "output_type": "execute_result",
          "data": {
            "text/plain": [
              "0.9383333333333334"
            ]
          },
          "metadata": {
            "tags": []
          },
          "execution_count": 81
        }
      ]
    },
    {
      "cell_type": "code",
      "metadata": {
        "colab": {
          "base_uri": "https://localhost:8080/"
        },
        "id": "AFMUEtX9GS08",
        "outputId": "9c528e9b-33ce-489d-dda3-6995902a898a"
      },
      "source": [
        "conf_mat = metrics.confusion_matrix(Y_test, Y_pred)\n",
        "conf_mat"
      ],
      "execution_count": null,
      "outputs": [
        {
          "output_type": "execute_result",
          "data": {
            "text/plain": [
              "array([[205,   0,   0,   1,   0,   0,   0,   0,   0,   1,   0,   0,   0,\n",
              "          0,   0,   0,   0,   0,   0,   0,   0,   0,   0,   0,   2,   0],\n",
              "       [  0, 205,   0,   3,   1,   0,   1,   0,   0,   0,   0,   0,   0,\n",
              "          0,   0,   0,   0,   6,   1,   0,   0,   0,   0,   1,   0,   0],\n",
              "       [  0,   0, 213,   0,   5,   0,   7,   1,   0,   0,   0,   0,   0,\n",
              "          0,   4,   0,   0,   0,   0,   0,   0,   0,   0,   0,   0,   0],\n",
              "       [  0,   4,   0, 234,   0,   0,   1,   3,   0,   0,   0,   0,   0,\n",
              "          3,   1,   0,   0,   2,   0,   0,   0,   0,   0,   0,   0,   0],\n",
              "       [  0,   0,   0,   0, 221,   1,   9,   0,   0,   0,   0,   0,   0,\n",
              "          0,   0,   0,   0,   1,   0,   0,   0,   0,   0,   0,   0,   2],\n",
              "       [  0,   0,   0,   1,   0, 215,   1,   1,   1,   0,   0,   0,   0,\n",
              "          1,   0,   1,   0,   0,   1,   3,   0,   0,   0,   0,   0,   0],\n",
              "       [  0,   0,   3,   4,   1,   1, 202,   0,   0,   0,   0,   1,   1,\n",
              "          0,   2,   0,   0,   1,   0,   0,   0,   1,   2,   0,   0,   0],\n",
              "       [  0,   7,   0,   5,   0,   0,   4, 177,   0,   0,   2,   0,   1,\n",
              "          0,   3,   0,   4,  13,   0,   0,   1,   0,   0,   0,   0,   0],\n",
              "       [  0,   0,   1,   1,   0,   3,   0,   0, 194,  11,   0,   0,   0,\n",
              "          0,   0,   1,   0,   0,   2,   0,   0,   0,   0,   2,   0,   0],\n",
              "       [  1,   0,   0,   1,   0,   0,   0,   0,   6, 206,   0,   0,   0,\n",
              "          1,   2,   0,   0,   0,   2,   0,   0,   0,   0,   1,   0,   0],\n",
              "       [  0,   4,   0,   2,   0,   0,   0,   4,   0,   0, 217,   0,   1,\n",
              "          0,   0,   0,   0,  14,   0,   0,   0,   0,   0,   3,   0,   0],\n",
              "       [  0,   0,   1,   0,   2,   0,   6,   0,   0,   0,   1, 222,   0,\n",
              "          0,   0,   0,   0,   3,   0,   0,   0,   0,   0,   2,   0,   0],\n",
              "       [  0,   5,   0,   0,   0,   0,   0,   2,   0,   0,   0,   0, 225,\n",
              "          0,   0,   0,   0,   0,   0,   0,   0,   0,   2,   0,   0,   0],\n",
              "       [  0,   2,   0,   1,   0,   0,   0,   2,   0,   0,   0,   0,   1,\n",
              "        239,   3,   0,   0,   2,   0,   0,   0,   0,   0,   0,   1,   0],\n",
              "       [  0,   0,   0,   1,   0,   0,   0,   0,   0,   0,   0,   0,   0,\n",
              "          0, 209,   0,   1,   1,   0,   0,   1,   0,   8,   0,   0,   0],\n",
              "       [  0,   2,   0,   3,   3,  11,   1,   1,   0,   0,   0,   0,   0,\n",
              "          0,   1, 237,   1,   0,   0,   0,   0,   0,   0,   0,   5,   0],\n",
              "       [  0,   0,   0,   0,   2,   0,   2,   0,   0,   0,   0,   0,   0,\n",
              "          0,   6,   0, 222,   0,   1,   0,   0,   0,   2,   0,   0,   0],\n",
              "       [  0,  10,   0,   2,   0,   0,   0,   0,   0,   0,   1,   0,   0,\n",
              "          4,   0,   0,   2, 224,   0,   0,   0,   0,   0,   0,   0,   0],\n",
              "       [  0,   3,   0,   0,   2,   3,   0,   0,   0,   0,   0,   0,   0,\n",
              "          0,   0,   0,   0,   0, 220,   0,   0,   0,   0,   0,   0,   0],\n",
              "       [  0,   0,   0,   1,   0,   2,   0,   2,   0,   0,   0,   0,   0,\n",
              "          0,   0,   1,   0,   1,   0, 228,   0,   0,   0,   3,   1,   0],\n",
              "       [  0,   0,   0,   0,   0,   0,   0,   0,   0,   0,   0,   0,   0,\n",
              "          1,   1,   0,   0,   0,   0,   0, 222,   0,   0,   0,   0,   0],\n",
              "       [  0,   7,   0,   0,   0,   0,   0,   1,   0,   0,   0,   0,   1,\n",
              "          4,   0,   1,   0,   0,   0,   0,   0, 193,   1,   0,   3,   0],\n",
              "       [  0,   1,   0,   0,   0,   0,   1,   1,   0,   0,   0,   0,   0,\n",
              "          1,   0,   0,   0,   0,   0,   0,   1,   0, 217,   0,   0,   0],\n",
              "       [  0,   2,   0,   3,   2,   0,   0,   0,   1,   0,   2,   0,   0,\n",
              "          0,   0,   0,   0,   1,   0,   0,   0,   0,   0, 233,   0,   0],\n",
              "       [  2,   0,   0,   0,   0,   0,   0,   0,   0,   0,   0,   0,   1,\n",
              "          0,   0,   0,   1,   0,   0,   1,   2,   2,   0,   0, 228,   0],\n",
              "       [  0,   0,   0,   0,   2,   0,   0,   0,   0,   0,   0,   0,   0,\n",
              "          0,   0,   0,   4,   0,   1,   0,   0,   0,   0,   0,   0, 222]])"
            ]
          },
          "metadata": {
            "tags": []
          },
          "execution_count": 82
        }
      ]
    },
    {
      "cell_type": "code",
      "metadata": {
        "colab": {
          "base_uri": "https://localhost:8080/"
        },
        "id": "Xzz_qQnyQ6ZE",
        "outputId": "ca4e897b-6f71-41d0-e56e-65762fba15cb"
      },
      "source": [
        "conf_mat[:,0]"
      ],
      "execution_count": null,
      "outputs": [
        {
          "output_type": "execute_result",
          "data": {
            "text/plain": [
              "array([205,   0,   0,   0,   0,   0,   0,   0,   0,   1,   0,   0,   0,\n",
              "         0,   0,   0,   0,   0,   0,   0,   0,   0,   0,   0,   2,   0])"
            ]
          },
          "metadata": {
            "tags": []
          },
          "execution_count": 83
        }
      ]
    },
    {
      "cell_type": "code",
      "metadata": {
        "colab": {
          "base_uri": "https://localhost:8080/"
        },
        "id": "HI1EUdpreW5O",
        "outputId": "549ce440-1468-4fd6-ba56-da7b2980a51b"
      },
      "source": [
        "print(metrics.classification_report(Y_test,Y_pred))"
      ],
      "execution_count": null,
      "outputs": [
        {
          "output_type": "stream",
          "text": [
            "              precision    recall  f1-score   support\n",
            "\n",
            "           A       0.99      0.98      0.98       209\n",
            "           B       0.81      0.94      0.87       218\n",
            "           C       0.98      0.93      0.95       230\n",
            "           D       0.89      0.94      0.92       248\n",
            "           E       0.92      0.94      0.93       234\n",
            "           F       0.91      0.96      0.93       225\n",
            "           G       0.86      0.92      0.89       219\n",
            "           H       0.91      0.82      0.86       217\n",
            "           I       0.96      0.90      0.93       215\n",
            "           J       0.94      0.94      0.94       220\n",
            "           K       0.97      0.89      0.93       245\n",
            "           L       1.00      0.94      0.97       237\n",
            "           M       0.97      0.96      0.97       234\n",
            "           N       0.94      0.95      0.95       251\n",
            "           O       0.90      0.95      0.92       221\n",
            "           P       0.98      0.89      0.94       265\n",
            "           Q       0.94      0.94      0.94       235\n",
            "           R       0.83      0.92      0.88       243\n",
            "           S       0.96      0.96      0.96       228\n",
            "           T       0.98      0.95      0.97       239\n",
            "           U       0.98      0.99      0.98       224\n",
            "           V       0.98      0.91      0.95       211\n",
            "           W       0.94      0.98      0.96       222\n",
            "           X       0.95      0.95      0.95       244\n",
            "           Y       0.95      0.96      0.96       237\n",
            "           Z       0.99      0.97      0.98       229\n",
            "\n",
            "    accuracy                           0.94      6000\n",
            "   macro avg       0.94      0.94      0.94      6000\n",
            "weighted avg       0.94      0.94      0.94      6000\n",
            "\n"
          ],
          "name": "stdout"
        }
      ]
    },
    {
      "cell_type": "code",
      "metadata": {
        "id": "_pJz2oAbman_"
      },
      "source": [
        "def my_custom_loss_func(X_train_scaled, Y_train_scaled):\n",
        "    error, M = 0, 0\n",
        "    for i in range(0, len(Y_train_scaled)):\n",
        "        z = (Y_train_scaled[i] - M)\n",
        "        if X_train_scaled[i] > M and Y_train_scaled[i] > M and (X_train_scaled[i] - Y_train_scaled[i]) > 0:\n",
        "            error_i = (abs(Y_train_scaled[i] - X_train_scaled[i]))**(2*np.exp(z))\n",
        "        if X_train_scaled[i] > M and Y_train_scaled[i] > M and (X_train_scaled[i] - Y_train_scaled[i]) < 0:\n",
        "            error_i = -(abs((Y_train_scaled[i] - X_train_scaled[i]))**(2*np.exp(z)))\n",
        "        if X_train_scaled[i] > M and Y_train_scaled[i] < M:\n",
        "            error_i = -(abs(Y_train_scaled[i] - X_train_scaled[i]))**(2*np.exp(-z))\n",
        "    error += error_i\n",
        "    return error"
      ],
      "execution_count": null,
      "outputs": []
    },
    {
      "cell_type": "code",
      "metadata": {
        "colab": {
          "base_uri": "https://localhost:8080/"
        },
        "id": "G52WNtCoWKwR",
        "outputId": "6613894b-d736-4583-95ef-1ba33a6541f6"
      },
      "source": [
        "# creating a KFold object with 5 splits \n",
        "folds = KFold(n_splits = 5, shuffle = True, random_state = 101)\n",
        "\n",
        "# specify range of hyperparameters\n",
        "# Set the parameters by cross-validation\n",
        "hyper_params = [ {'gamma': [1e-2, 1e-3, 1e-4],\n",
        "                     'C': [1, 10, 100, 1000]}]\n",
        "\n",
        "\n",
        "# specify model\n",
        "model = SVC(kernel=\"rbf\")\n",
        "\n",
        "# set up GridSearchCV()\n",
        "\n",
        "\n",
        "model_cv = GridSearchCV(estimator = model, \n",
        "                        param_grid = hyper_params, \n",
        "                        scoring= 'accuracy', \n",
        "                        cv = folds, \n",
        "                        verbose = 1,\n",
        "                        return_train_score=True)      \n",
        "\n",
        "# fit the model\n",
        "model_cv.fit(X_train, Y_train) "
      ],
      "execution_count": null,
      "outputs": [
        {
          "output_type": "stream",
          "text": [
            "Fitting 5 folds for each of 12 candidates, totalling 60 fits\n"
          ],
          "name": "stdout"
        },
        {
          "output_type": "stream",
          "text": [
            "[Parallel(n_jobs=1)]: Using backend SequentialBackend with 1 concurrent workers.\n",
            "[Parallel(n_jobs=1)]: Done  60 out of  60 | elapsed: 12.3min finished\n"
          ],
          "name": "stderr"
        },
        {
          "output_type": "execute_result",
          "data": {
            "text/plain": [
              "GridSearchCV(cv=KFold(n_splits=5, random_state=101, shuffle=True),\n",
              "             error_score=nan,\n",
              "             estimator=SVC(C=1.0, break_ties=False, cache_size=200,\n",
              "                           class_weight=None, coef0=0.0,\n",
              "                           decision_function_shape='ovr', degree=3,\n",
              "                           gamma='scale', kernel='rbf', max_iter=-1,\n",
              "                           probability=False, random_state=None, shrinking=True,\n",
              "                           tol=0.001, verbose=False),\n",
              "             iid='deprecated', n_jobs=None,\n",
              "             param_grid=[{'C': [1, 10, 100, 1000],\n",
              "                          'gamma': [0.01, 0.001, 0.0001]}],\n",
              "             pre_dispatch='2*n_jobs', refit=True, return_train_score=True,\n",
              "             scoring='accuracy', verbose=1)"
            ]
          },
          "metadata": {
            "tags": []
          },
          "execution_count": 89
        }
      ]
    },
    {
      "cell_type": "code",
      "metadata": {
        "colab": {
          "base_uri": "https://localhost:8080/",
          "height": 900
        },
        "id": "xcRokk31mOGV",
        "outputId": "673e8558-2518-45b4-f619-6907ce83e7a2"
      },
      "source": [
        "cv_results = pd.DataFrame(model_cv.cv_results_)\n",
        "cv_results(\"\")"
      ],
      "execution_count": null,
      "outputs": [
        {
          "output_type": "execute_result",
          "data": {
            "text/html": [
              "<div>\n",
              "<style scoped>\n",
              "    .dataframe tbody tr th:only-of-type {\n",
              "        vertical-align: middle;\n",
              "    }\n",
              "\n",
              "    .dataframe tbody tr th {\n",
              "        vertical-align: top;\n",
              "    }\n",
              "\n",
              "    .dataframe thead th {\n",
              "        text-align: right;\n",
              "    }\n",
              "</style>\n",
              "<table border=\"1\" class=\"dataframe\">\n",
              "  <thead>\n",
              "    <tr style=\"text-align: right;\">\n",
              "      <th></th>\n",
              "      <th>mean_fit_time</th>\n",
              "      <th>std_fit_time</th>\n",
              "      <th>mean_score_time</th>\n",
              "      <th>std_score_time</th>\n",
              "      <th>param_C</th>\n",
              "      <th>param_gamma</th>\n",
              "      <th>params</th>\n",
              "      <th>split0_test_score</th>\n",
              "      <th>split1_test_score</th>\n",
              "      <th>split2_test_score</th>\n",
              "      <th>split3_test_score</th>\n",
              "      <th>split4_test_score</th>\n",
              "      <th>mean_test_score</th>\n",
              "      <th>std_test_score</th>\n",
              "      <th>rank_test_score</th>\n",
              "      <th>split0_train_score</th>\n",
              "      <th>split1_train_score</th>\n",
              "      <th>split2_train_score</th>\n",
              "      <th>split3_train_score</th>\n",
              "      <th>split4_train_score</th>\n",
              "      <th>mean_train_score</th>\n",
              "      <th>std_train_score</th>\n",
              "    </tr>\n",
              "  </thead>\n",
              "  <tbody>\n",
              "    <tr>\n",
              "      <th>0</th>\n",
              "      <td>3.169755</td>\n",
              "      <td>0.023518</td>\n",
              "      <td>1.867253</td>\n",
              "      <td>0.008501</td>\n",
              "      <td>1</td>\n",
              "      <td>0.01</td>\n",
              "      <td>{'C': 1, 'gamma': 0.01}</td>\n",
              "      <td>0.826429</td>\n",
              "      <td>0.834643</td>\n",
              "      <td>0.828571</td>\n",
              "      <td>0.843929</td>\n",
              "      <td>0.830000</td>\n",
              "      <td>0.832714</td>\n",
              "      <td>0.006221</td>\n",
              "      <td>7</td>\n",
              "      <td>0.843929</td>\n",
              "      <td>0.844196</td>\n",
              "      <td>0.847679</td>\n",
              "      <td>0.843571</td>\n",
              "      <td>0.844018</td>\n",
              "      <td>0.844679</td>\n",
              "      <td>0.001514</td>\n",
              "    </tr>\n",
              "    <tr>\n",
              "      <th>1</th>\n",
              "      <td>6.847813</td>\n",
              "      <td>0.029770</td>\n",
              "      <td>2.361998</td>\n",
              "      <td>0.005228</td>\n",
              "      <td>1</td>\n",
              "      <td>0.001</td>\n",
              "      <td>{'C': 1, 'gamma': 0.001}</td>\n",
              "      <td>0.684643</td>\n",
              "      <td>0.672500</td>\n",
              "      <td>0.682500</td>\n",
              "      <td>0.670000</td>\n",
              "      <td>0.676429</td>\n",
              "      <td>0.677214</td>\n",
              "      <td>0.005622</td>\n",
              "      <td>10</td>\n",
              "      <td>0.682054</td>\n",
              "      <td>0.683125</td>\n",
              "      <td>0.687946</td>\n",
              "      <td>0.679554</td>\n",
              "      <td>0.686429</td>\n",
              "      <td>0.683821</td>\n",
              "      <td>0.003021</td>\n",
              "    </tr>\n",
              "    <tr>\n",
              "      <th>2</th>\n",
              "      <td>13.092906</td>\n",
              "      <td>0.020784</td>\n",
              "      <td>2.474339</td>\n",
              "      <td>0.005809</td>\n",
              "      <td>1</td>\n",
              "      <td>0.0001</td>\n",
              "      <td>{'C': 1, 'gamma': 0.0001}</td>\n",
              "      <td>0.203929</td>\n",
              "      <td>0.207143</td>\n",
              "      <td>0.206429</td>\n",
              "      <td>0.237500</td>\n",
              "      <td>0.232857</td>\n",
              "      <td>0.217571</td>\n",
              "      <td>0.014490</td>\n",
              "      <td>12</td>\n",
              "      <td>0.212679</td>\n",
              "      <td>0.217589</td>\n",
              "      <td>0.228393</td>\n",
              "      <td>0.240625</td>\n",
              "      <td>0.240625</td>\n",
              "      <td>0.227982</td>\n",
              "      <td>0.011507</td>\n",
              "    </tr>\n",
              "    <tr>\n",
              "      <th>3</th>\n",
              "      <td>1.916264</td>\n",
              "      <td>0.006301</td>\n",
              "      <td>1.275793</td>\n",
              "      <td>0.008345</td>\n",
              "      <td>10</td>\n",
              "      <td>0.01</td>\n",
              "      <td>{'C': 10, 'gamma': 0.01}</td>\n",
              "      <td>0.914643</td>\n",
              "      <td>0.908571</td>\n",
              "      <td>0.902500</td>\n",
              "      <td>0.919286</td>\n",
              "      <td>0.911071</td>\n",
              "      <td>0.911214</td>\n",
              "      <td>0.005654</td>\n",
              "      <td>3</td>\n",
              "      <td>0.929643</td>\n",
              "      <td>0.929464</td>\n",
              "      <td>0.930357</td>\n",
              "      <td>0.928929</td>\n",
              "      <td>0.928125</td>\n",
              "      <td>0.929304</td>\n",
              "      <td>0.000746</td>\n",
              "    </tr>\n",
              "    <tr>\n",
              "      <th>4</th>\n",
              "      <td>3.167468</td>\n",
              "      <td>0.010010</td>\n",
              "      <td>1.891144</td>\n",
              "      <td>0.005635</td>\n",
              "      <td>10</td>\n",
              "      <td>0.001</td>\n",
              "      <td>{'C': 10, 'gamma': 0.001}</td>\n",
              "      <td>0.805714</td>\n",
              "      <td>0.809643</td>\n",
              "      <td>0.803571</td>\n",
              "      <td>0.820714</td>\n",
              "      <td>0.805000</td>\n",
              "      <td>0.808929</td>\n",
              "      <td>0.006227</td>\n",
              "      <td>8</td>\n",
              "      <td>0.818125</td>\n",
              "      <td>0.817679</td>\n",
              "      <td>0.819643</td>\n",
              "      <td>0.814375</td>\n",
              "      <td>0.819464</td>\n",
              "      <td>0.817857</td>\n",
              "      <td>0.001897</td>\n",
              "    </tr>\n",
              "    <tr>\n",
              "      <th>5</th>\n",
              "      <td>6.820265</td>\n",
              "      <td>0.029955</td>\n",
              "      <td>2.362387</td>\n",
              "      <td>0.008975</td>\n",
              "      <td>10</td>\n",
              "      <td>0.0001</td>\n",
              "      <td>{'C': 10, 'gamma': 0.0001}</td>\n",
              "      <td>0.684286</td>\n",
              "      <td>0.671071</td>\n",
              "      <td>0.682500</td>\n",
              "      <td>0.670000</td>\n",
              "      <td>0.677143</td>\n",
              "      <td>0.677000</td>\n",
              "      <td>0.005788</td>\n",
              "      <td>11</td>\n",
              "      <td>0.681875</td>\n",
              "      <td>0.683304</td>\n",
              "      <td>0.687500</td>\n",
              "      <td>0.680089</td>\n",
              "      <td>0.685446</td>\n",
              "      <td>0.683643</td>\n",
              "      <td>0.002608</td>\n",
              "    </tr>\n",
              "    <tr>\n",
              "      <th>6</th>\n",
              "      <td>2.047501</td>\n",
              "      <td>0.013447</td>\n",
              "      <td>0.940904</td>\n",
              "      <td>0.003975</td>\n",
              "      <td>100</td>\n",
              "      <td>0.01</td>\n",
              "      <td>{'C': 100, 'gamma': 0.01}</td>\n",
              "      <td>0.948571</td>\n",
              "      <td>0.946786</td>\n",
              "      <td>0.941429</td>\n",
              "      <td>0.952857</td>\n",
              "      <td>0.949286</td>\n",
              "      <td>0.947786</td>\n",
              "      <td>0.003742</td>\n",
              "      <td>2</td>\n",
              "      <td>0.978482</td>\n",
              "      <td>0.977946</td>\n",
              "      <td>0.978393</td>\n",
              "      <td>0.978661</td>\n",
              "      <td>0.978571</td>\n",
              "      <td>0.978411</td>\n",
              "      <td>0.000249</td>\n",
              "    </tr>\n",
              "    <tr>\n",
              "      <th>7</th>\n",
              "      <td>2.181161</td>\n",
              "      <td>0.011364</td>\n",
              "      <td>1.347137</td>\n",
              "      <td>0.005713</td>\n",
              "      <td>100</td>\n",
              "      <td>0.001</td>\n",
              "      <td>{'C': 100, 'gamma': 0.001}</td>\n",
              "      <td>0.861071</td>\n",
              "      <td>0.866071</td>\n",
              "      <td>0.850357</td>\n",
              "      <td>0.875357</td>\n",
              "      <td>0.863929</td>\n",
              "      <td>0.863357</td>\n",
              "      <td>0.008074</td>\n",
              "      <td>5</td>\n",
              "      <td>0.879554</td>\n",
              "      <td>0.877143</td>\n",
              "      <td>0.882143</td>\n",
              "      <td>0.875536</td>\n",
              "      <td>0.879464</td>\n",
              "      <td>0.878768</td>\n",
              "      <td>0.002262</td>\n",
              "    </tr>\n",
              "    <tr>\n",
              "      <th>8</th>\n",
              "      <td>3.199864</td>\n",
              "      <td>0.006443</td>\n",
              "      <td>1.890334</td>\n",
              "      <td>0.003049</td>\n",
              "      <td>100</td>\n",
              "      <td>0.0001</td>\n",
              "      <td>{'C': 100, 'gamma': 0.0001}</td>\n",
              "      <td>0.801071</td>\n",
              "      <td>0.806429</td>\n",
              "      <td>0.803929</td>\n",
              "      <td>0.817143</td>\n",
              "      <td>0.800000</td>\n",
              "      <td>0.805714</td>\n",
              "      <td>0.006140</td>\n",
              "      <td>9</td>\n",
              "      <td>0.813571</td>\n",
              "      <td>0.812679</td>\n",
              "      <td>0.814286</td>\n",
              "      <td>0.810000</td>\n",
              "      <td>0.815357</td>\n",
              "      <td>0.813179</td>\n",
              "      <td>0.001815</td>\n",
              "    </tr>\n",
              "    <tr>\n",
              "      <th>9</th>\n",
              "      <td>2.267004</td>\n",
              "      <td>0.007242</td>\n",
              "      <td>0.861236</td>\n",
              "      <td>0.010105</td>\n",
              "      <td>1000</td>\n",
              "      <td>0.01</td>\n",
              "      <td>{'C': 1000, 'gamma': 0.01}</td>\n",
              "      <td>0.953571</td>\n",
              "      <td>0.949643</td>\n",
              "      <td>0.948571</td>\n",
              "      <td>0.952857</td>\n",
              "      <td>0.953929</td>\n",
              "      <td>0.951714</td>\n",
              "      <td>0.002183</td>\n",
              "      <td>1</td>\n",
              "      <td>0.997054</td>\n",
              "      <td>0.997768</td>\n",
              "      <td>0.997411</td>\n",
              "      <td>0.997321</td>\n",
              "      <td>0.997232</td>\n",
              "      <td>0.997357</td>\n",
              "      <td>0.000237</td>\n",
              "    </tr>\n",
              "    <tr>\n",
              "      <th>10</th>\n",
              "      <td>2.492804</td>\n",
              "      <td>0.023888</td>\n",
              "      <td>1.018772</td>\n",
              "      <td>0.008613</td>\n",
              "      <td>1000</td>\n",
              "      <td>0.001</td>\n",
              "      <td>{'C': 1000, 'gamma': 0.001}</td>\n",
              "      <td>0.897500</td>\n",
              "      <td>0.895714</td>\n",
              "      <td>0.889643</td>\n",
              "      <td>0.908571</td>\n",
              "      <td>0.900357</td>\n",
              "      <td>0.898357</td>\n",
              "      <td>0.006197</td>\n",
              "      <td>4</td>\n",
              "      <td>0.931339</td>\n",
              "      <td>0.927679</td>\n",
              "      <td>0.931607</td>\n",
              "      <td>0.927589</td>\n",
              "      <td>0.931696</td>\n",
              "      <td>0.929982</td>\n",
              "      <td>0.001921</td>\n",
              "    </tr>\n",
              "    <tr>\n",
              "      <th>11</th>\n",
              "      <td>2.337796</td>\n",
              "      <td>0.026264</td>\n",
              "      <td>1.369458</td>\n",
              "      <td>0.012684</td>\n",
              "      <td>1000</td>\n",
              "      <td>0.0001</td>\n",
              "      <td>{'C': 1000, 'gamma': 0.0001}</td>\n",
              "      <td>0.844643</td>\n",
              "      <td>0.848214</td>\n",
              "      <td>0.829286</td>\n",
              "      <td>0.856071</td>\n",
              "      <td>0.843571</td>\n",
              "      <td>0.844357</td>\n",
              "      <td>0.008717</td>\n",
              "      <td>6</td>\n",
              "      <td>0.860982</td>\n",
              "      <td>0.858482</td>\n",
              "      <td>0.864018</td>\n",
              "      <td>0.858304</td>\n",
              "      <td>0.861607</td>\n",
              "      <td>0.860679</td>\n",
              "      <td>0.002125</td>\n",
              "    </tr>\n",
              "  </tbody>\n",
              "</table>\n",
              "</div>"
            ],
            "text/plain": [
              "    mean_fit_time  std_fit_time  ...  mean_train_score  std_train_score\n",
              "0        3.169755      0.023518  ...          0.844679         0.001514\n",
              "1        6.847813      0.029770  ...          0.683821         0.003021\n",
              "2       13.092906      0.020784  ...          0.227982         0.011507\n",
              "3        1.916264      0.006301  ...          0.929304         0.000746\n",
              "4        3.167468      0.010010  ...          0.817857         0.001897\n",
              "5        6.820265      0.029955  ...          0.683643         0.002608\n",
              "6        2.047501      0.013447  ...          0.978411         0.000249\n",
              "7        2.181161      0.011364  ...          0.878768         0.002262\n",
              "8        3.199864      0.006443  ...          0.813179         0.001815\n",
              "9        2.267004      0.007242  ...          0.997357         0.000237\n",
              "10       2.492804      0.023888  ...          0.929982         0.001921\n",
              "11       2.337796      0.026264  ...          0.860679         0.002125\n",
              "\n",
              "[12 rows x 22 columns]"
            ]
          },
          "metadata": {
            "tags": []
          },
          "execution_count": 90
        }
      ]
    },
    {
      "cell_type": "code",
      "metadata": {
        "colab": {
          "base_uri": "https://localhost:8080/"
        },
        "id": "MLrgaHWysyrv",
        "outputId": "ec195883-8fd8-4a5f-fb96-e739df3fe86c"
      },
      "source": [
        "best_score = model_cv.best_score_\n",
        "best_hyperparams = model_cv.best_params_\n",
        "\n",
        "print(\"The best test score is {0} corresponding to hyperparameters {1}\".format(best_score, best_hyperparams))"
      ],
      "execution_count": null,
      "outputs": [
        {
          "output_type": "stream",
          "text": [
            "The best test score is 0.9517142857142857 corresponding to hyperparameters {'C': 1000, 'gamma': 0.01}\n"
          ],
          "name": "stdout"
        }
      ]
    },
    {
      "cell_type": "code",
      "metadata": {
        "colab": {
          "base_uri": "https://localhost:8080/"
        },
        "id": "olfC2M0cs0qJ",
        "outputId": "a834c5e8-1519-4712-9d40-be2b6da89454"
      },
      "source": [
        "# model with optimal hyperparameters\n",
        "\n",
        "# model\n",
        "model = SVC(C=1000, gamma=0.01, kernel=\"rbf\")\n",
        "\n",
        "model.fit(X_train, Y_train)\n",
        "y_pred = model.predict(X_test)\n",
        "\n",
        "# metrics\n",
        "print(\"accuracy\", metrics.accuracy_score(Y_test, y_pred), \"\\n\")\n",
        "print(metrics.confusion_matrix(Y_test, y_pred), \"\\n\")\n"
      ],
      "execution_count": null,
      "outputs": [
        {
          "output_type": "stream",
          "text": [
            "accuracy 0.9596666666666667 \n",
            "\n",
            "[[206   0   0   0   0   0   0   0   0   0   0   1   0   0   0   0   0   0\n",
            "    0   0   0   0   0   0   2   0]\n",
            " [  0 211   0   2   1   0   1   0   0   0   0   0   0   0   0   0   0   1\n",
            "    2   0   0   0   0   0   0   0]\n",
            " [  0   0 220   0   3   0   4   1   0   0   0   0   0   0   2   0   0   0\n",
            "    0   0   0   0   0   0   0   0]\n",
            " [  0   3   0 236   0   1   0   1   0   1   0   0   0   2   2   0   0   1\n",
            "    1   0   0   0   0   0   0   0]\n",
            " [  0   0   1   0 225   1   4   0   0   0   0   0   0   0   0   0   0   0\n",
            "    1   0   0   0   0   0   0   2]\n",
            " [  0   0   0   1   0 217   0   0   1   1   0   0   0   1   0   3   0   0\n",
            "    0   0   0   1   0   0   0   0]\n",
            " [  0   0   2   3   1   0 209   0   0   0   0   0   1   0   1   0   0   0\n",
            "    0   0   0   1   1   0   0   0]\n",
            " [  0   1   3   5   0   0   2 195   1   1   2   1   1   0   1   0   3   1\n",
            "    0   0   0   0   0   0   0   0]\n",
            " [  0   0   0   1   0   1   0   0 203   8   0   0   0   0   0   0   1   0\n",
            "    0   0   0   0   0   1   0   0]\n",
            " [  0   0   0   0   0   0   0   0   7 209   0   0   0   1   0   0   0   1\n",
            "    0   0   2   0   0   0   0   0]\n",
            " [  0   1   0   0   2   0   0   5   0   0 228   0   0   0   0   0   0   5\n",
            "    0   0   0   0   0   4   0   0]\n",
            " [  0   0   0   0   0   0   1   1   0   0   0 232   0   0   0   1   0   1\n",
            "    0   1   0   0   0   0   0   0]\n",
            " [  0   0   0   0   0   0   0   0   0   0   0   0 230   2   0   0   0   0\n",
            "    0   0   0   0   2   0   0   0]\n",
            " [  0   3   0   1   0   0   0   0   0   0   0   0   1 244   0   0   0   1\n",
            "    0   0   0   0   1   0   0   0]\n",
            " [  0   0   2   0   0   0   2   0   0   1   0   0   2   0 210   0   1   1\n",
            "    0   0   1   0   1   0   0   0]\n",
            " [  0   0   0   0   1   8   0   1   1   0   0   0   0   0   0 252   1   0\n",
            "    0   0   0   0   0   0   1   0]\n",
            " [  0   0   0   0   3   0   1   0   0   0   0   0   0   0   2   1 226   0\n",
            "    0   0   0   0   0   0   0   2]\n",
            " [  0   8   0   1   0   0   1   3   0   0   3   0   0   3   0   0   0 224\n",
            "    0   0   0   0   0   0   0   0]\n",
            " [  0   1   0   0   1   2   1   0   0   0   0   0   0   0   0   0   0   0\n",
            "  223   0   0   0   0   0   0   0]\n",
            " [  0   0   0   1   0   0   0   1   0   0   0   0   0   0   0   1   0   0\n",
            "    0 235   0   0   0   1   0   0]\n",
            " [  2   0   0   0   0   0   1   2   0   0   0   0   0   2   0   0   0   0\n",
            "    0   0 217   0   0   0   0   0]\n",
            " [  0   4   0   0   0   0   0   0   0   0   0   0   1   0   0   1   0   0\n",
            "    0   0   0 203   1   0   1   0]\n",
            " [  0   0   0   0   0   0   1   0   0   0   0   0   0   0   0   1   0   0\n",
            "    0   0   0   0 220   0   0   0]\n",
            " [  0   1   0   3   2   0   0   0   0   0   3   1   0   0   0   0   0   1\n",
            "    0   0   0   0   0 232   1   0]\n",
            " [  1   0   0   0   0   0   0   0   0   1   0   0   0   0   0   0   0   0\n",
            "    1   0   1   2   1   0 230   0]\n",
            " [  0   0   0   0   2   1   0   0   0   0   0   0   0   0   0   0   3   0\n",
            "    1   1   0   0   0   0   0 221]] \n",
            "\n"
          ],
          "name": "stdout"
        }
      ]
    },
    {
      "cell_type": "code",
      "metadata": {
        "colab": {
          "base_uri": "https://localhost:8080/"
        },
        "id": "ssmeZaZetyNN",
        "outputId": "3a53053d-0ff8-46e6-b791-79fdae9237a2"
      },
      "source": [
        "print(metrics.classification_report(Y_test, y_pred))"
      ],
      "execution_count": null,
      "outputs": [
        {
          "output_type": "stream",
          "text": [
            "              precision    recall  f1-score   support\n",
            "\n",
            "           A       0.99      0.99      0.99       209\n",
            "           B       0.91      0.97      0.94       218\n",
            "           C       0.96      0.96      0.96       230\n",
            "           D       0.93      0.95      0.94       248\n",
            "           E       0.93      0.96      0.95       234\n",
            "           F       0.94      0.96      0.95       225\n",
            "           G       0.92      0.95      0.94       219\n",
            "           H       0.93      0.90      0.91       217\n",
            "           I       0.95      0.94      0.95       215\n",
            "           J       0.94      0.95      0.95       220\n",
            "           K       0.97      0.93      0.95       245\n",
            "           L       0.99      0.98      0.98       237\n",
            "           M       0.97      0.98      0.98       234\n",
            "           N       0.96      0.97      0.96       251\n",
            "           O       0.96      0.95      0.96       221\n",
            "           P       0.97      0.95      0.96       265\n",
            "           Q       0.96      0.96      0.96       235\n",
            "           R       0.95      0.92      0.93       243\n",
            "           S       0.97      0.98      0.98       228\n",
            "           T       0.99      0.98      0.99       239\n",
            "           U       0.98      0.97      0.98       224\n",
            "           V       0.98      0.96      0.97       211\n",
            "           W       0.97      0.99      0.98       222\n",
            "           X       0.97      0.95      0.96       244\n",
            "           Y       0.98      0.97      0.97       237\n",
            "           Z       0.98      0.97      0.97       229\n",
            "\n",
            "    accuracy                           0.96      6000\n",
            "   macro avg       0.96      0.96      0.96      6000\n",
            "weighted avg       0.96      0.96      0.96      6000\n",
            "\n"
          ],
          "name": "stdout"
        }
      ]
    }
  ]
}